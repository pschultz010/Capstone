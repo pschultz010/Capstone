{
 "cells": [
  {
   "cell_type": "markdown",
   "metadata": {
    "id": "5FvGiO9a_okI"
   },
   "source": [
    "Import Packages and Data"
   ]
  },
  {
   "cell_type": "code",
   "execution_count": 1,
   "metadata": {},
   "outputs": [],
   "source": [
    "import pandas as pd\n",
    "import datetime as dt\n",
    "import numpy as np\n",
    "import seaborn as sns\n",
    "import os\n",
    "main = pd.read_excel('Report.xlsx')"
   ]
  },
  {
   "cell_type": "markdown",
   "metadata": {
    "id": "6i63lRSR_okO"
   },
   "source": [
    "Clean Data"
   ]
  },
  {
   "cell_type": "code",
   "execution_count": 2,
   "metadata": {
    "id": "q3KwXuVs_okP"
   },
   "outputs": [
    {
     "data": {
      "text/html": [
       "<div>\n",
       "<style scoped>\n",
       "    .dataframe tbody tr th:only-of-type {\n",
       "        vertical-align: middle;\n",
       "    }\n",
       "\n",
       "    .dataframe tbody tr th {\n",
       "        vertical-align: top;\n",
       "    }\n",
       "\n",
       "    .dataframe thead th {\n",
       "        text-align: right;\n",
       "    }\n",
       "</style>\n",
       "<table border=\"1\" class=\"dataframe\">\n",
       "  <thead>\n",
       "    <tr style=\"text-align: right;\">\n",
       "      <th></th>\n",
       "      <th>Place</th>\n",
       "      <th>Commodity Code</th>\n",
       "      <th>Bill ID</th>\n",
       "      <th>Billing Period</th>\n",
       "      <th>Start Date</th>\n",
       "      <th>End Date</th>\n",
       "      <th>Native Use</th>\n",
       "      <th>Native Use Unit</th>\n",
       "      <th>Cost</th>\n",
       "    </tr>\n",
       "  </thead>\n",
       "  <tbody>\n",
       "    <tr>\n",
       "      <th>0</th>\n",
       "      <td>Publick Playhouse</td>\n",
       "      <td>ELECTRIC</td>\n",
       "      <td>13985</td>\n",
       "      <td>199407</td>\n",
       "      <td>1994-07-01</td>\n",
       "      <td>1994-07-12</td>\n",
       "      <td>200.0</td>\n",
       "      <td>kWh</td>\n",
       "      <td>30.51</td>\n",
       "    </tr>\n",
       "    <tr>\n",
       "      <th>1</th>\n",
       "      <td>Publick Playhouse</td>\n",
       "      <td>ELECTRIC</td>\n",
       "      <td>13986</td>\n",
       "      <td>199407</td>\n",
       "      <td>1994-07-12</td>\n",
       "      <td>1994-08-09</td>\n",
       "      <td>180.0</td>\n",
       "      <td>kWh</td>\n",
       "      <td>28.34</td>\n",
       "    </tr>\n",
       "    <tr>\n",
       "      <th>2</th>\n",
       "      <td>Publick Playhouse</td>\n",
       "      <td>ELECTRIC</td>\n",
       "      <td>13987</td>\n",
       "      <td>199408</td>\n",
       "      <td>1994-08-09</td>\n",
       "      <td>1994-09-09</td>\n",
       "      <td>200.0</td>\n",
       "      <td>kWh</td>\n",
       "      <td>30.51</td>\n",
       "    </tr>\n",
       "    <tr>\n",
       "      <th>3</th>\n",
       "      <td>Publick Playhouse</td>\n",
       "      <td>ELECTRIC</td>\n",
       "      <td>13988</td>\n",
       "      <td>199409</td>\n",
       "      <td>1994-09-09</td>\n",
       "      <td>1994-10-12</td>\n",
       "      <td>220.0</td>\n",
       "      <td>kWh</td>\n",
       "      <td>32.69</td>\n",
       "    </tr>\n",
       "    <tr>\n",
       "      <th>4</th>\n",
       "      <td>Publick Playhouse</td>\n",
       "      <td>ELECTRIC</td>\n",
       "      <td>13989</td>\n",
       "      <td>199410</td>\n",
       "      <td>1994-10-12</td>\n",
       "      <td>1994-11-09</td>\n",
       "      <td>180.0</td>\n",
       "      <td>kWh</td>\n",
       "      <td>20.63</td>\n",
       "    </tr>\n",
       "  </tbody>\n",
       "</table>\n",
       "</div>"
      ],
      "text/plain": [
       "               Place Commodity Code  Bill ID  Billing Period Start Date  \\\n",
       "0  Publick Playhouse       ELECTRIC    13985          199407 1994-07-01   \n",
       "1  Publick Playhouse       ELECTRIC    13986          199407 1994-07-12   \n",
       "2  Publick Playhouse       ELECTRIC    13987          199408 1994-08-09   \n",
       "3  Publick Playhouse       ELECTRIC    13988          199409 1994-09-09   \n",
       "4  Publick Playhouse       ELECTRIC    13989          199410 1994-10-12   \n",
       "\n",
       "    End Date  Native Use Native Use Unit   Cost  \n",
       "0 1994-07-12       200.0             kWh  30.51  \n",
       "1 1994-08-09       180.0             kWh  28.34  \n",
       "2 1994-09-09       200.0             kWh  30.51  \n",
       "3 1994-10-12       220.0             kWh  32.69  \n",
       "4 1994-11-09       180.0             kWh  20.63  "
      ]
     },
     "execution_count": 2,
     "metadata": {},
     "output_type": "execute_result"
    }
   ],
   "source": [
    "main = main[['Place', 'Commodity Code', 'Bill ID', 'Billing Period', 'Start Date', 'End Date', 'Native Use', 'Native Use Unit', 'Cost']]\n",
    "\n",
    "main = main.replace({'Place': {'Prince George\\'s Publick Playhouse / Art Center' : 'Publick Playhouse',\n",
    "                               'Prince George\\'s Publick Playhouse': 'Publick Playhouse',\n",
    "                               'Palmer Park Community Center / Community Center': 'Palmer Park Community Center',\n",
    "                               'Laurel Beltsville Senior Activity Center/ Center': 'Laurel Beltsville Senior Activity Center',\n",
    "                               'Southern Tech&Rec Complex/Athletic Center': 'Southern Tech&Rec Complex'}})\n",
    "\n",
    "# seperate into dataframes by place\n",
    "facility = {\n",
    "    'Publick Playhouse': main.loc[main['Place'] == 'Publick Playhouse'],\n",
    "    'Palmer Park Community Center': main.loc[main['Place'] == 'Palmer Park Community Center'],\n",
    "    'Southern Area Aquatics and Recreation Complex': main.loc[main['Place'] == 'Southern Area Aquatics and Recreation Complex'],\n",
    "    'Laurel Beltsville Senior Activity Center': main.loc[main['Place'] == 'Laurel Beltsville Senior Activity Center'],\n",
    "    'Southern Tech&Rec Complex': main.loc[main['Place'] == 'Southern Tech&Rec Complex']   \n",
    "}\n",
    "\n",
    "facility['Publick Playhouse'].head()"
   ]
  },
  {
   "cell_type": "code",
   "execution_count": 3,
   "metadata": {
    "id": "q3KwXuVs_okP"
   },
   "outputs": [],
   "source": [
    "# remove all rows where cost=0 and sort by Start Date\n",
    "for place in facility:\n",
    "    facility[place] = facility[place][facility[place]['Cost'] != 0]\n",
    "    facility[place] = facility[place][~facility[place]['Cost'].isna()]\n",
    "    facility[place] = facility[place].sort_values(by=['Start Date', 'Commodity Code'])\n",
    "    \n",
    "# seperate facilities into dictionaries by utility\n",
    "for place in facility:\n",
    "    facility[place] = {\n",
    "        'ELECTRIC': facility[place].loc[main['Commodity Code'] == 'ELECTRIC'],\n",
    "        'WATER': facility[place].loc[main['Commodity Code'] == 'WATER'],\n",
    "        'NATURALGAS': facility[place].loc[main['Commodity Code'] == 'NATURALGAS'],\n",
    "        'TELEPHONE': facility[place].loc[main['Commodity Code'] == 'TELEPHONE']\n",
    "    }"
   ]
  },
  {
   "cell_type": "markdown",
   "metadata": {
    "id": "AHPMf88T_okQ"
   },
   "source": [
    "Aggregate Duplicates"
   ]
  },
  {
   "cell_type": "code",
   "execution_count": 4,
   "metadata": {
    "id": "E4qZcAs5_okR"
   },
   "outputs": [],
   "source": [
    "def agg_dup_bill_periods(df):\n",
    "    # aggregate rows with duplicate end dates\n",
    "    x = df.copy()\n",
    "    aggregation_functions = {'Place': 'first', 'Commodity Code': 'first', 'Bill ID': 'last', 'Start Date': 'min', 'End Date': 'max', 'Native Use': 'sum', 'Native Use Unit': 'first', 'Cost': 'sum'}\n",
    "    x = x.groupby(x['Billing Period']).aggregate(aggregation_functions).reset_index()\n",
    "    return(x)\n",
    "\n",
    "for place in facility:\n",
    "    for utility in facility[place]:\n",
    "        facility[place][utility] = agg_dup_bill_periods(facility[place][utility])"
   ]
  },
  {
   "cell_type": "markdown",
   "metadata": {
    "id": "60YbOlZJ_okR"
   },
   "source": [
    "Find Missing Billing Periods"
   ]
  },
  {
   "cell_type": "code",
   "execution_count": 5,
   "metadata": {
    "id": "wufbjgfn_okR"
   },
   "outputs": [],
   "source": [
    "def missingData(df):\n",
    "    x = df.copy()    \n",
    "    missing = pd.DataFrame(columns=['From', 'To', 'Days'])\n",
    "    i = 1                           \n",
    "    while i < x.shape[0]:\n",
    "        days = x.iloc[i]['Start Date']-x.iloc[i-1]['End Date']\n",
    "        if days > dt.timedelta(days=2):\n",
    "            missing.loc[len(missing.index)] = [x.iloc[i-1]['End Date'], x.iloc[i]['Start Date'], days] \n",
    "        i = i + 1\n",
    "    \n",
    "    return(missing)"
   ]
  },
  {
   "cell_type": "markdown",
   "metadata": {
    "id": "O6uy9qO1_okS"
   },
   "source": [
    "Graph Utility Cost per Year "
   ]
  },
  {
   "cell_type": "code",
   "execution_count": 6,
   "metadata": {
    "id": "uvNN4PHS_okS"
   },
   "outputs": [],
   "source": [
    "def yearlyUtilityCost(df):\n",
    "    try:\n",
    "        #Format Data\n",
    "        x = df.copy()\n",
    "        facility = x.iloc[0]['Place']\n",
    "        utility = x.iloc[0]['Commodity Code']\n",
    "        \n",
    "        x['Start Date'] = pd.DatetimeIndex(x['Start Date']).year.astype(str)\n",
    "        x = x[['Start Date', 'Cost']]\n",
    "        x = x.groupby('Start Date').sum()\n",
    "        #Graph Data\n",
    "        yearCost = sns.barplot(x=x.index, y=x.Cost, data = x, ci=None)\n",
    "        yearCost.set_title('{}: {} COST/YEAR'.format(facility, utility))\n",
    "        yearCost.set_ylabel(\"COST ($)\")\n",
    "        yearCost.set_xlabel(\"YEAR\")\n",
    "        for entry in yearCost.xaxis.get_ticklabels():\n",
    "            entry.set_rotation(60)\n",
    "        \n",
    "        # save graph\n",
    "        yearCost.figure.savefig('Report Results/{}/YEARLY {}.png'.format(facility, utility))\n",
    "        yearCost.figure.clf()\n",
    "        \n",
    "        # save details\n",
    "        return(x)\n",
    "    except:\n",
    "        return('error making graph')"
   ]
  },
  {
   "cell_type": "markdown",
   "metadata": {
    "id": "oYqcWQi2_okS"
   },
   "source": [
    "Create Graphs and Information in Folders"
   ]
  },
  {
   "cell_type": "code",
   "execution_count": 7,
   "metadata": {
    "code_folding": [],
    "id": "1YW9t4H7_okT",
    "outputId": "f8ab6486-51f7-4e53-81ca-65372f22a75a",
    "scrolled": true
   },
   "outputs": [
    {
     "data": {
      "text/plain": [
       "<Figure size 432x288 with 0 Axes>"
      ]
     },
     "metadata": {},
     "output_type": "display_data"
    }
   ],
   "source": [
    "# make results folder\n",
    "if not os.path.isdir('Report Results'):\n",
    "    os.mkdir('Report Results')\n",
    "    \n",
    "for place in facility:\n",
    "    path = 'Report Results/{}'.format(place)\n",
    "    # make folder for facility\n",
    "    if not os.path.isdir(path):\n",
    "        os.mkdir(path)\n",
    "        \n",
    "    for utility in facility[place]:\n",
    "        # create txt file for graph description\n",
    "        # YEARLY\n",
    "        with open('{}/YEARLY {}.txt'.format(path, utility), \"w\") as text_file:\n",
    "            print('{}\\t(YEARLY {})\\n\\n'.format(place, utility), file=text_file)\n",
    "            # save missing details\n",
    "            missing = missingData(facility[place][utility])\n",
    "            if not missing.empty:\n",
    "                print('MISSING DATA:\\n{}\\n\\n'.format(missing), file=text_file)\n",
    "            # save graph information\n",
    "            details = yearlyUtilityCost(facility[place][utility])\n",
    "            print(details, file=text_file)"
   ]
  },
  {
   "cell_type": "code",
   "execution_count": 8,
   "metadata": {
    "id": "HllDZ272_okU"
   },
   "outputs": [],
   "source": [
    "# save cleaned dataframe\n",
    "cleaned = pd.DataFrame()\n",
    "for place in facility:\n",
    "    for utility in facility[place]:\n",
    "        cleaned = cleaned.append(facility[place][utility], ignore_index=True)\n",
    "cleaned.to_csv('cleaned_report.csv')"
   ]
  },
  {
   "cell_type": "code",
   "execution_count": 9,
   "metadata": {
    "id": "01pswmwj_okU"
   },
   "outputs": [],
   "source": [
    "# remove rows where utility use = 0\n",
    "for place in facility:\n",
    "    for utility in facility[place]:\n",
    "        x = facility[place][utility]\n",
    "        x = x[~x['Native Use'].isna()]"
   ]
  },
  {
   "cell_type": "code",
   "execution_count": 10,
   "metadata": {
    "id": "QThCzghH_okU"
   },
   "outputs": [
    {
     "data": {
      "text/plain": [
       "<Figure size 432x288 with 0 Axes>"
      ]
     },
     "metadata": {},
     "output_type": "display_data"
    }
   ],
   "source": [
    "def EUI(df, sqft):\n",
    "    try:\n",
    "        #Format Data\n",
    "        x = df.copy()\n",
    "        facility = x.iloc[0]['Place']\n",
    "        x.loc[x['Commodity Code'] == \"ELECTRIC\", \"EnergykBTU\"] = x['Native Use'] * float(3.412)\n",
    "        x.loc[x['Commodity Code'] == \"NATURALGAS\", \"EnergykBTU\"] = x['Native Use'] * float(99.9761)\n",
    "        x['Start Date'] = pd.DatetimeIndex(x['Start Date']).year.astype(str)\n",
    "        x['EUI'] = x['EnergykBTU']/sqft\n",
    "        x = x[['Start Date', 'EUI']]\n",
    "        x = x.groupby('Start Date').sum()\n",
    "        \n",
    "        #Graph Data\n",
    "        eui = sns.barplot(x=x.index, y=x.EUI, data = x, ci=None)\n",
    "        eui.set_title('{}: EUI'.format(facility, utility))\n",
    "        eui.set_ylabel(\"EUI\")\n",
    "        eui.set_xlabel(\"YEAR\")\n",
    "        for entry in eui.xaxis.get_ticklabels():\n",
    "            entry.set_rotation(60)\n",
    "        \n",
    "        # save graph\n",
    "        eui.figure.savefig('Report Results/{}/EUI.png'.format(facility))\n",
    "        eui.figure.clf()\n",
    "        \n",
    "        # save details\n",
    "        return(x)\n",
    "    except:\n",
    "        return('error making graph')\n",
    "    \n",
    "#EUI\n",
    "facility_area = {'Publick Playhouse': 14190, \n",
    "                 'Palmer Park Community Center': 21921, \n",
    "                 'Southern Area Aquatics and Recreation Complex': 75984, \n",
    "                 'Laurel Beltsville Senior Activity Center': 16925, \n",
    "                 'Southern Tech&Rec Complex': 37048}\n",
    "\n",
    "for place in facility:\n",
    "    path = 'Report Results/{}'.format(place)\n",
    "    df_eui = pd.DataFrame()\n",
    "    df_eui = df_eui.append(facility[place]['ELECTRIC'], ignore_index=True)\n",
    "    df_eui = df_eui.append(facility[place]['NATURALGAS'], ignore_index=True)\n",
    "\n",
    "    with open('{}/EUI.txt'.format(path), \"w\") as text_file:\n",
    "        print('{}\\t(EUI)\\n\\n'.format(place), file=text_file)\n",
    "        # save missing details\n",
    "        missing = missingData(facility[place]['ELECTRIC'])\n",
    "        if not missing.empty:\n",
    "            print('MISSING DATA in ELECTRIC:\\n{}\\n\\n'.format(missing), file=text_file)\n",
    "        missing = missingData(facility[place]['NATURALGAS'])\n",
    "        if not missing.empty:\n",
    "            print('MISSING DATA in NATURALGAS:\\n{}\\n\\n'.format(missing), file=text_file)\n",
    "        # save graph information\n",
    "        details = EUI(df_eui, facility_area[place])\n",
    "        print(details, file=text_file)"
   ]
  }
 ],
 "metadata": {
  "colab": {
   "name": "deliverable.ipynb",
   "provenance": []
  },
  "kernelspec": {
   "display_name": "Python 3",
   "language": "python",
   "name": "python3"
  },
  "language_info": {
   "codemirror_mode": {
    "name": "ipython",
    "version": 3
   },
   "file_extension": ".py",
   "mimetype": "text/x-python",
   "name": "python",
   "nbconvert_exporter": "python",
   "pygments_lexer": "ipython3",
   "version": "3.8.8"
  }
 },
 "nbformat": 4,
 "nbformat_minor": 1
}
